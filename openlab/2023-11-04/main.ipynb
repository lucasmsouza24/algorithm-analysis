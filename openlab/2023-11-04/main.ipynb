{
 "cells": [
  {
   "cell_type": "code",
   "execution_count": 1,
   "metadata": {},
   "outputs": [],
   "source": [
    "class Grafo:\n",
    "\n",
    "    # constructor\n",
    "    def __init__(self):\n",
    "        self.vertices = []\n",
    "    \n",
    "    # methods\n",
    "    def add_vertices(self, key):\n",
    "        self.append()\n",
    "\n",
    "    def display(self):\n",
    "        for vertice in self.vertices:\n",
    "            print(vertice.display())\n"
   ]
  },
  {
   "cell_type": "code",
   "execution_count": 17,
   "metadata": {},
   "outputs": [],
   "source": [
    "class Vertice:\n",
    "\n",
    "    # constructor\n",
    "    def __init__(self, key):\n",
    "        self.key = key\n",
    "        self.points_to = {}\n",
    "\n",
    "    # getters and setters\n",
    "    def get_points(self):\n",
    "        return self.points_to.keys()\n",
    "    \n",
    "    def get_key(self):\n",
    "        return self.key\n",
    "\n",
    "    # methods\n",
    "    def add_point(self, point, weight):\n",
    "        self.points_to[point] = weight\n",
    "\n",
    "    def display(self):\n",
    "        return f'{self.key} - {self.points_to}'"
   ]
  },
  {
   "cell_type": "code",
   "execution_count": 18,
   "metadata": {},
   "outputs": [
    {
     "data": {
      "text/plain": [
       "dict_keys([2, 3])"
      ]
     },
     "execution_count": 18,
     "metadata": {},
     "output_type": "execute_result"
    }
   ],
   "source": [
    "grafo = Grafo()\n",
    "\n",
    "# creating vertices\n",
    "v1 = Vertice(1)\n",
    "v2 = Vertice(2)\n",
    "v3 = Vertice(3)\n",
    "\n",
    "# adicionando arestas\n",
    "v1.add_point(2, 20)\n",
    "v1.add_point(3, 30)\n",
    "\n",
    "v1.display()\n",
    "v1.get_points()"
   ]
  }
 ],
 "metadata": {
  "kernelspec": {
   "display_name": "Python 3",
   "language": "python",
   "name": "python3"
  },
  "language_info": {
   "codemirror_mode": {
    "name": "ipython",
    "version": 3
   },
   "file_extension": ".py",
   "mimetype": "text/x-python",
   "name": "python",
   "nbconvert_exporter": "python",
   "pygments_lexer": "ipython3",
   "version": "3.11.1"
  },
  "orig_nbformat": 4
 },
 "nbformat": 4,
 "nbformat_minor": 2
}
