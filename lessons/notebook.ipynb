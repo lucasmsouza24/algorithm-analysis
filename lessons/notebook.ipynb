{
 "cells": [
  {
   "cell_type": "code",
   "execution_count": 4,
   "metadata": {},
   "outputs": [
    {
     "name": "stdout",
     "output_type": "stream",
     "text": [
      "Preço do produto bolinha é R$ 100,00\n"
     ]
    }
   ],
   "source": [
    "string_1 = 'Preço do produto bolinha é'\n",
    "string_2 = 'R$ 100,00'\n",
    "print(string_1 +  ' ' + string_2)"
   ]
  },
  {
   "cell_type": "code",
   "execution_count": 18,
   "metadata": {},
   "outputs": [
    {
     "name": "stdout",
     "output_type": "stream",
     "text": [
      "e\n",
      "produto\n",
      "Preço do produto bolinha é\n",
      "Preço do produto bolinha é R$ 100,00\n",
      "a\n",
      "eço do \n",
      "26\n",
      " \n",
      "b\n"
     ]
    }
   ],
   "source": [
    "string_1 = 'Preço do produto bolinha é'\n",
    "string_2 = 'R$ 100,00'\n",
    "print(string_1[2])\n",
    "print(string_1[9:16])\n",
    "print(string_1[:])\n",
    "print(string_1[:] + ' ' + string_2[:])\n",
    "print(string_1[-3])\n",
    "print(string_1[2:9])\n",
    "print(len(string_1))\n",
    "print(string_1[-18])\n",
    "print(string_1[17])"
   ]
  },
  {
   "cell_type": "code",
   "execution_count": 28,
   "metadata": {},
   "outputs": [
    {
     "name": "stdout",
     "output_type": "stream",
     "text": [
      "e\n",
      "produto\n",
      "Preço do produto bolinha eh\n",
      "Preço do produto bolinha eh R$ 100\n",
      "e\n",
      "eço do \n",
      "27\n",
      "p\n",
      "Preço do produto bolinha eh\n"
     ]
    }
   ],
   "source": [
    "# encoding: iso-8859-1\n",
    "# code 008\n",
    "string_1 = 'Preço do produto bolinha eh'\n",
    "string_2 = 'R$ 100'\n",
    "\n",
    "print(string_1[2])\n",
    "print(string_1[9:16])\n",
    "print(string_1[:])\n",
    "print(string_1[:] + ' ' + string_2[:])\n",
    "print(string_1[-2])\n",
    "print(string_1[2:9])\n",
    "print(len(string_1))\n",
    "print(string_1[-18])\n",
    "print(string_1)\n",
    "\n"
   ]
  },
  {
   "cell_type": "code",
   "execution_count": 4,
   "metadata": {},
   "outputs": [
    {
     "name": "stdout",
     "output_type": "stream",
     "text": [
      "hello world\n"
     ]
    }
   ],
   "source": [
    "string_1 = 'Preço do produto bolinha é'\n",
    "string_2 = 'R$ 100,00'\n",
    "string_3 = (string_1[:] + ' ' + string_2[:])"
   ]
  },
  {
   "cell_type": "code",
   "execution_count": 34,
   "metadata": {},
   "outputs": [
    {
     "name": "stdout",
     "output_type": "stream",
     "text": [
      "36\n",
      "Preço do produto bolinha é R$ 100,00\n",
      "rdt \n",
      "\n",
      "00,001 $R é ahnilob otudorp od oçerP\n"
     ]
    }
   ],
   "source": [
    "string_1 = 'Preço do produto bolinha é'\n",
    "string_2 = 'R$ 100,00'\n",
    "string_3 = (string_1[:] + ' ' + string_2[:])\n",
    "print(len(string_3))\n",
    "print(string_3[::])\n",
    "print(f'{string_3[10:17:2]}')\n",
    "print(string_3[-19:13:1])\n",
    "print(string_3[-1::-1])"
   ]
  },
  {
   "cell_type": "code",
   "execution_count": 35,
   "metadata": {},
   "outputs": [
    {
     "name": "stdout",
     "output_type": "stream",
     "text": [
      "24\n",
      "28\n",
      "28\n",
      "28\n"
     ]
    }
   ],
   "source": [
    "from sys import getsizeof\n",
    "\n",
    "zero = 0\n",
    "one = 1\n",
    "two = 2\n",
    "ten = 10\n",
    "hundred = 100\n",
    "\n",
    "print(getsizeof(zero))\n",
    "print(getsizeof(one))\n",
    "print(getsizeof(ten))\n",
    "print(getsizeof(hundred))"
   ]
  },
  {
   "cell_type": "code",
   "execution_count": 45,
   "metadata": {},
   "outputs": [
    {
     "name": "stdout",
     "output_type": "stream",
     "text": [
      "2214788625584\n",
      "2214788619760\n",
      "cat cat\n",
      "True\n"
     ]
    }
   ],
   "source": [
    "a = (b'cat').decode('utf-8')\n",
    "b = (b'cat').decode('utf-8')\n",
    "print(id(a))\n",
    "print(id(b))\n",
    "print(a, b)\n",
    "print(a == b)"
   ]
  },
  {
   "cell_type": "code",
   "execution_count": 41,
   "metadata": {},
   "outputs": [
    {
     "name": "stdout",
     "output_type": "stream",
     "text": [
      "2214690009072\n",
      "2214690009072\n",
      "True\n"
     ]
    }
   ],
   "source": [
    "a = 'cat'\n",
    "b = 'cat'\n",
    "print(id(a))\n",
    "print(id(b))\n",
    "print(a == b)"
   ]
  },
  {
   "cell_type": "code",
   "execution_count": 46,
   "metadata": {},
   "outputs": [
    {
     "name": "stdout",
     "output_type": "stream",
     "text": [
      "cat\n",
      "cat\n",
      "True\n"
     ]
    }
   ],
   "source": [
    "a = 'cat'\n",
    "b = a\n",
    "print(a)\n",
    "print(b)\n",
    "print(a == b)"
   ]
  },
  {
   "cell_type": "code",
   "execution_count": 157,
   "metadata": {},
   "outputs": [
    {
     "name": "stdout",
     "output_type": "stream",
     "text": [
      "m1 <memory at 0x00000203ABAE1000>\n",
      "len(m1) 13\n",
      "m2 <memory at 0x00000203AA557040>\n",
      "len(m2) 5\n",
      "Preço do produto bolinha é R$ 100,00\n",
      "Preço do produto bolinha é\n",
      "m3 <memory at 0x00000203ABAE1180>\n",
      "len(m3) 13\n",
      "id(product_price) 2214788926016\n",
      "new_product_price Preço do produto bolinha é R$ 100,00\n",
      "<memory at 0x00000203AA556080>\n",
      "len(m4) 17\n",
      "m5 <memory at 0x00000203AA557340>\n",
      "len(m5) 13\n",
      "product_price Preço do produto bolinha é R$ 100,00\n",
      "id(product_price) 2214788926352\n"
     ]
    }
   ],
   "source": [
    "product_price = \"Preço do produto bolinha é\"\n",
    "m1 = memoryview(b'product_price')\n",
    "print('m1', m1)\n",
    "print('len(m1)', len(m1))\n",
    "\n",
    "price = 'R$ 100,00'\n",
    "m2 = memoryview(b'price')\n",
    "print('m2', m2)\n",
    "print('len(m2)', len(m2))\n",
    "print(product_price + ' ' + price)\n",
    "print(product_price)\n",
    "\n",
    "m3 = memoryview(b'product_price')\n",
    "print('m3', m3)\n",
    "print('len(m3)', len(m3))\n",
    "print('id(product_price)', id(product_price))\n",
    "new_product_price = (product_price + ' ' + price)\n",
    "print('new_product_price', new_product_price)\n",
    "m4 = memoryview(b'new_product_price')\n",
    "print(m4)\n",
    "print('len(m4)', len(m4))\n",
    "product_price = (new_product_price)\n",
    "m5 = memoryview(b'product_price')\n",
    "print('m5', m5)\n",
    "print('len(m5)', len(m5))\n",
    "print('product_price', product_price)\n",
    "print('id(product_price)', id(product_price))\n"
   ]
  },
  {
   "cell_type": "code",
   "execution_count": 161,
   "metadata": {},
   "outputs": [
    {
     "name": "stdout",
     "output_type": "stream",
     "text": [
      "1675989266.9197364 segundos\n",
      "m1 <memory at 0x00000203ABAE13C0>\n",
      "len(m1) 13\n",
      "m2 <memory at 0x00000203ABAE0E80>\n",
      "len(m2) <memory at 0x00000203ABAE0E80>\n",
      "Preço do produto bolinha é R$ 100,00\n",
      "Preço do produto bolinha é\n",
      "m3 <memory at 0x00000203ABAE1300>\n",
      "len(m3) 13\n",
      "2214788469504\n",
      "0.0009996891021728516 segundos\n"
     ]
    }
   ],
   "source": [
    "import time\n",
    "tempo_inicial = time.time()\n",
    "print(f'{tempo_inicial} segundos')\n",
    "\n",
    "product_price = 'Preço do produto bolinha é'\n",
    "m1 = memoryview(b'product_price')\n",
    "print('m1', m1)\n",
    "print('len(m1)', len(m1))\n",
    "price = 'R$ 100,00'\n",
    "\n",
    "m2 = memoryview(b'price')\n",
    "print('m2', m2)\n",
    "print('len(m2)', m2)\n",
    "print(product_price + ' ' + price)\n",
    "print(product_price)\n",
    "\n",
    "m3 = memoryview(b'product_price')\n",
    "print('m3', m3)\n",
    "print('len(m3)', len(m3))\n",
    "print(id(m3))\n",
    "\n",
    "tempo_final = time.time()\n",
    "print(f'{tempo_final - tempo_inicial} segundos')"
   ]
  },
  {
   "cell_type": "code",
   "execution_count": 170,
   "metadata": {},
   "outputs": [
    {
     "name": "stdout",
     "output_type": "stream",
     "text": [
      "69\n",
      "93\n"
     ]
    }
   ],
   "source": [
    "from sys import getsizeof\n",
    "print(getsizeof('O preco da bolinha e'))\n",
    "print(getsizeof('O preço da bolinha é'))"
   ]
  },
  {
   "cell_type": "code",
   "execution_count": null,
   "metadata": {},
   "outputs": [],
   "source": []
  }
 ],
 "metadata": {
  "kernelspec": {
   "display_name": "Python 3",
   "language": "python",
   "name": "python3"
  },
  "language_info": {
   "codemirror_mode": {
    "name": "ipython",
    "version": 3
   },
   "file_extension": ".py",
   "mimetype": "text/x-python",
   "name": "python",
   "nbconvert_exporter": "python",
   "pygments_lexer": "ipython3",
   "version": "3.10.1"
  },
  "orig_nbformat": 4,
  "vscode": {
   "interpreter": {
    "hash": "606e1e68140238ba5165e2ede8c0c37de558511e6f0c44b4698dbb40f581f55a"
   }
  }
 },
 "nbformat": 4,
 "nbformat_minor": 2
}
