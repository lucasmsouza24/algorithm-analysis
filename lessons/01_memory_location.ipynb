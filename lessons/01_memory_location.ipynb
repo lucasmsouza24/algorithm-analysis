{
 "cells": [
  {
   "attachments": {},
   "cell_type": "markdown",
   "id": "ef4887c8",
   "metadata": {},
   "source": [
    "## Tamanho dos Objetos em Python\n",
    "\n",
    "|Tipo de Objeto|Tamanho (Bytes)|Anotações|\n",
    "|:----------:|:-------------:|:------:|\n",
    "|int|28||\n",
    "|str|49|+1 por charactere|\n",
    "|tuple|40 (empty)|+8 por item|\n",
    "|list|56 (empty)|+8 por item|\n",
    "|set|216||\n",
    "|dict|232||\n",
    "|func def|136|sem atributos e argumentos|"
   ]
  },
  {
   "cell_type": "code",
   "execution_count": 140,
   "id": "0e82f66b",
   "metadata": {},
   "outputs": [
    {
     "name": "stdout",
     "output_type": "stream",
     "text": [
      "type    |  size\n",
      "-------------------------\n",
      "int     :   24 bytes\n",
      "string  :   49 bytes\n",
      "tuple   :   40 bytes\n",
      "list    :   56 bytes\n",
      "set     :  216 bytes\n",
      "dict    :   64 bytes\n",
      "function:  152 bytes\n"
     ]
    }
   ],
   "source": [
    "from sys import getsizeof\n",
    "\n",
    "my_dict = {\n",
    "    'int': 0,\n",
    "    'string': '',\n",
    "    'tuple': tuple(),\n",
    "    'list': [],\n",
    "    'set': set(),\n",
    "    'dict': {},\n",
    "    'function': lambda: ()\n",
    "}\n",
    "\n",
    "print(f'{\"type\":8}|  {\"size\"}')\n",
    "print('-' * 25)\n",
    "\n",
    "for k, v in my_dict.items():\n",
    "    print(f'{k:8}: {getsizeof(v):4} bytes')"
   ]
  },
  {
   "attachments": {},
   "cell_type": "markdown",
   "id": "293ff9ce",
   "metadata": {},
   "source": [
    "## Alocação na memória\n",
    "\n",
    "Ao executar um programa, 2 áreas dentro da memória RAM são disponibilizadas ao programa:\n",
    "\n",
    "- STACK\n",
    "    > aloca variáveis ou ponteiros quando\n",
    "    > uma função é chamada e desalocada quando a função termina. \n",
    "    > Representa a memória local associada àquela função.\n",
    "- HEAP\n",
    "    > é um espaço reservado aos dados criados durante a\n",
    "    > execução do programa (runtime)."
   ]
  },
  {
   "attachments": {},
   "cell_type": "markdown",
   "id": "1fbd8e49",
   "metadata": {},
   "source": [
    "##### Praticando \n",
    "\n",
    "Concatenando duas strings, utilizando o mesmo nome de variável. "
   ]
  },
  {
   "cell_type": "code",
   "execution_count": 147,
   "id": "a0a19206",
   "metadata": {},
   "outputs": [
    {
     "name": "stdout",
     "output_type": "stream",
     "text": [
      "O preço da bolinha é R$ 100,00\n"
     ]
    }
   ],
   "source": [
    "# encoding: iso-8859-1\n",
    "msg = 'O preço da bolinha é '\n",
    "preco = 'R$ 100,00'\n",
    "print(f'{msg}{preco}')"
   ]
  },
  {
   "cell_type": "code",
   "execution_count": 148,
   "id": "aa92441f",
   "metadata": {},
   "outputs": [
    {
     "name": "stdout",
     "output_type": "stream",
     "text": [
      "O preço da bolinha é  R$ 100,00\n"
     ]
    }
   ],
   "source": [
    "# encoding: iso-8859-1\n",
    "msg = 'O preço da bolinha é '\n",
    "preco = 'R$ 100,00'\n",
    "msg = msg + ' ' + preco\n",
    "print(msg)"
   ]
  },
  {
   "cell_type": "code",
   "execution_count": 151,
   "id": "5c6f464b",
   "metadata": {},
   "outputs": [
    {
     "name": "stdout",
     "output_type": "stream",
     "text": [
      "O preço da bolinha é  R$ 100,00\n",
      "o número da msg curta é:  1920191575696\n",
      "o número da msg concatenada é:  1920191915808\n",
      "Os ids são iguais:  False\n"
     ]
    }
   ],
   "source": [
    "# encoding: iso-8859-1\n",
    "msg = 'O preço da bolinha é '\n",
    "id_msg_curta = id(msg)\n",
    "preco = 'R$ 100,00'\n",
    "msg = msg + ' ' + preco\n",
    "id_msg_concatenada = id(msg)\n",
    "\n",
    "print(msg)\n",
    "print(f'o número da msg curta é: ', id_msg_curta)\n",
    "print(f'o número da msg concatenada é: ', id_msg_concatenada)\n",
    "print('Os ids são iguais: ', id_msg_curta == id_msg_concatenada)"
   ]
  },
  {
   "cell_type": "code",
   "execution_count": 152,
   "id": "72a408c3",
   "metadata": {},
   "outputs": [
    {
     "name": "stdout",
     "output_type": "stream",
     "text": [
      "0x1bf145b6720\n"
     ]
    }
   ],
   "source": [
    "print(hex(id(msg)))"
   ]
  },
  {
   "cell_type": "code",
   "execution_count": 6,
   "id": "1c8afafb",
   "metadata": {},
   "outputs": [
    {
     "name": "stdout",
     "output_type": "stream",
     "text": [
      "<memory at 0x000001ECB7DA7280>\n"
     ]
    }
   ],
   "source": [
    "m1 = memoryview(b'product_price')\n",
    "print(m1)"
   ]
  },
  {
   "cell_type": "code",
   "execution_count": 7,
   "id": "f5e83ad1",
   "metadata": {},
   "outputs": [
    {
     "name": "stdout",
     "output_type": "stream",
     "text": [
      "<memory at 0x000001ECB7DA6E00>\n"
     ]
    }
   ],
   "source": [
    "m2 = memoryview(b'product_price')\n",
    "print(m2)"
   ]
  },
  {
   "cell_type": "code",
   "execution_count": 5,
   "id": "e057b017",
   "metadata": {},
   "outputs": [
    {
     "name": "stdout",
     "output_type": "stream",
     "text": [
      "<memory at 0x000001ECB7DA71C0>\n",
      "<memory at 0x000001ECB7DA71C0>\n"
     ]
    }
   ],
   "source": [
    "m3 = b'product_price'\n",
    "print(memoryview(m3))\n",
    "print(memoryview(m3))"
   ]
  }
 ],
 "metadata": {
  "kernelspec": {
   "display_name": "Python 3",
   "language": "python",
   "name": "python3"
  },
  "language_info": {
   "codemirror_mode": {
    "name": "ipython",
    "version": 3
   },
   "file_extension": ".py",
   "mimetype": "text/x-python",
   "name": "python",
   "nbconvert_exporter": "python",
   "pygments_lexer": "ipython3",
   "version": "3.11.0"
  },
  "vscode": {
   "interpreter": {
    "hash": "c261aea317cc0286b3b3261fbba9abdec21eaa57589985bb7a274bf54d6cc0a7"
   }
  }
 },
 "nbformat": 4,
 "nbformat_minor": 5
}
